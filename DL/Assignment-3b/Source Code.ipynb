{
 "cells": [
  {
   "cell_type": "code",
   "execution_count": 3,
   "id": "ea84c53f",
   "metadata": {},
   "outputs": [
    {
     "name": "stdout",
     "output_type": "stream",
     "text": [
      "Epoch 1/15\n",
      "750/750 [==============================] - 19s 24ms/step - loss: 0.5898 - accuracy: 0.7826 - val_loss: 0.4231 - val_accuracy: 0.8476\n",
      "Epoch 2/15\n",
      "750/750 [==============================] - 18s 24ms/step - loss: 0.3699 - accuracy: 0.8667 - val_loss: 0.3532 - val_accuracy: 0.8713\n",
      "Epoch 3/15\n",
      "750/750 [==============================] - 18s 24ms/step - loss: 0.3168 - accuracy: 0.8854 - val_loss: 0.3130 - val_accuracy: 0.8888\n",
      "Epoch 4/15\n",
      "750/750 [==============================] - 16s 21ms/step - loss: 0.2847 - accuracy: 0.8962 - val_loss: 0.2979 - val_accuracy: 0.8912\n",
      "Epoch 5/15\n",
      "750/750 [==============================] - 16s 21ms/step - loss: 0.2590 - accuracy: 0.9051 - val_loss: 0.2923 - val_accuracy: 0.8956\n",
      "Epoch 6/15\n",
      "750/750 [==============================] - 16s 21ms/step - loss: 0.2368 - accuracy: 0.9135 - val_loss: 0.2696 - val_accuracy: 0.9032\n",
      "Epoch 7/15\n",
      "750/750 [==============================] - 17s 22ms/step - loss: 0.2199 - accuracy: 0.9193 - val_loss: 0.2677 - val_accuracy: 0.9045\n",
      "Epoch 8/15\n",
      "750/750 [==============================] - 16s 21ms/step - loss: 0.2051 - accuracy: 0.9250 - val_loss: 0.2660 - val_accuracy: 0.9088\n",
      "Epoch 9/15\n",
      "750/750 [==============================] - 15s 20ms/step - loss: 0.1877 - accuracy: 0.9299 - val_loss: 0.2524 - val_accuracy: 0.9118\n",
      "Epoch 10/15\n",
      "750/750 [==============================] - 16s 21ms/step - loss: 0.1739 - accuracy: 0.9360 - val_loss: 0.2530 - val_accuracy: 0.9097\n",
      "Epoch 11/15\n",
      "750/750 [==============================] - 16s 21ms/step - loss: 0.1600 - accuracy: 0.9405 - val_loss: 0.2562 - val_accuracy: 0.9113\n",
      "Epoch 12/15\n",
      "750/750 [==============================] - 16s 22ms/step - loss: 0.1489 - accuracy: 0.9463 - val_loss: 0.2602 - val_accuracy: 0.9118\n",
      "Epoch 13/15\n",
      "750/750 [==============================] - 19s 25ms/step - loss: 0.1389 - accuracy: 0.9483 - val_loss: 0.2694 - val_accuracy: 0.9125\n",
      "Epoch 14/15\n",
      "750/750 [==============================] - 19s 25ms/step - loss: 0.1254 - accuracy: 0.9535 - val_loss: 0.2755 - val_accuracy: 0.9108\n",
      "Epoch 15/15\n",
      "750/750 [==============================] - 17s 22ms/step - loss: 0.1151 - accuracy: 0.9574 - val_loss: 0.2942 - val_accuracy: 0.9061\n",
      "1/1 [==============================] - 0s 78ms/step\n"
     ]
    },
    {
     "data": {
      "image/png": "[encoded data removed]",
      "text/plain": [
       "<Figure size 1000x600 with 5 Axes>"
      ]
     },
     "metadata": {},
     "output_type": "display_data"
    }
   ],
   "source": [
    "import numpy as np\n",
    "import matplotlib.pyplot as plt\n",
    "from tensorflow.keras.datasets import fashion_mnist\n",
    "from tensorflow.keras.models import Sequential\n",
    "from tensorflow.keras.layers import Conv2D, MaxPooling2D, Flatten, Dense\n",
    "from tensorflow.keras.utils import to_categorical\n",
    "\n",
    "# Load the Fashion MNIST dataset\n",
    "(train_images, train_labels), (test_images, test_labels) = fashion_mnist.load_data()\n",
    "\n",
    "# Preprocess the data\n",
    "train_images = train_images.reshape((train_images.shape[0], 28, 28, 1)).astype('float32') / 255\n",
    "test_images = test_images.reshape((test_images.shape[0], 28, 28, 1)).astype('float32') / 255\n",
    "train_labels = to_categorical(train_labels)\n",
    "test_labels = to_categorical(test_labels)\n",
    "\n",
    "# Define the CNN model\n",
    "model = Sequential([\n",
    "    Conv2D(32, (3, 3), activation='relu', input_shape=(28, 28, 1)),\n",
    "    MaxPooling2D((2, 2)),\n",
    "    Conv2D(64, (3, 3), activation='relu'),\n",
    "    MaxPooling2D((2, 2)),\n",
    "    Conv2D(64, (3, 3), activation='relu'),\n",
    "    Flatten(),\n",
    "    Dense(64, activation='relu'),\n",
    "    Dense(10, activation='softmax')\n",
    "])\n",
    "\n",
    "# Compile the model\n",
    "model.compile(optimizer='adam',\n",
    "              loss='categorical_crossentropy',\n",
    "              metrics=['accuracy'])\n",
    "\n",
    "# Train the model\n",
    "model.fit(train_images, train_labels, epochs=15, batch_size=64, validation_split=0.2)\n",
    "\n",
    "# Select random images from the test set\n",
    "num_samples = 5\n",
    "random_indices = np.random.choice(len(test_images), num_samples, replace=False)\n",
    "sample_images = test_images[random_indices]\n",
    "sample_labels = test_labels[random_indices]\n",
    "\n",
    "# Make predictions on the sample images\n",
    "predictions = model.predict(sample_images)\n",
    "predicted_labels = np.argmax(predictions, axis=1)\n",
    "\n",
    "# Define class labels\n",
    "class_labels = ['T-shirt/top', 'Trouser', 'Pullover', 'Dress', 'Coat',\n",
    "                'Sandal', 'Shirt', 'Sneaker', 'Bag', 'Ankle boot']\n",
    "\n",
    "# Show images with their predicted and true labels\n",
    "plt.figure(figsize=(10, 6))\n",
    "for i in range(num_samples):\n",
    "    plt.subplot(1, num_samples, i + 1)\n",
    "    plt.imshow(sample_images[i].reshape(28, 28), cmap='gray')\n",
    "    plt.title(f\"True: {class_labels[np.argmax(sample_labels[i])]} \\nPredicted: {class_labels[predicted_labels[i]]}\")\n",
    "    plt.axis('off')\n",
    "plt.tight_layout()\n",
    "plt.show()\n"
   ]
  },
  {
   "cell_type": "code",
   "execution_count": 4,
   "id": "8c6bdb85",
   "metadata": {},
   "outputs": [
    {
     "name": "stderr",
     "output_type": "stream",
     "text": [
      "C:\\Users\\PREDATOR\\anaconda3\\Lib\\site-packages\\keras\\src\\engine\\training.py:3000: UserWarning: You are saving your model as an HDF5 file via `model.save()`. This file format is considered legacy. We recommend using instead the native Keras format, e.g. `model.save('my_model.keras')`.\n",
      "  saving_api.save_model(\n"
     ]
    }
   ],
   "source": [
    "# Save the model\n",
    "model.save('my_cnn_model.h5')"
   ]
  },
  {
   "cell_type": "code",
   "execution_count": 5,
   "id": "2689d264",
   "metadata": {},
   "outputs": [],
   "source": [
    "from tensorflow.keras.models import load_model\n",
    "\n",
    "# Load the model\n",
    "loaded_model = load_model('my_cnn_model.h5')"
   ]
  },
  {
   "cell_type": "code",
   "execution_count": 8,
   "id": "05caefc9",
   "metadata": {},
   "outputs": [
    {
     "name": "stdout",
     "output_type": "stream",
     "text": [
      "1/1 [==============================] - 0s 78ms/step\n"
     ]
    }
   ],
   "source": [
    "import tkinter as tk\n",
    "from tkinter import ttk, filedialog\n",
    "from PIL import ImageTk, Image\n",
    "import numpy as np\n",
    "from tensorflow.keras.models import load_model\n",
    "\n",
    "# Load the trained model\n",
    "model = load_model('my_cnn_model.h5')\n",
    "\n",
    "# Define class labels\n",
    "class_labels = ['T-shirt/top', 'Trouser', 'Pullover', 'Dress', 'Coat',\n",
    "                'Sandal', 'Shirt', 'Sneaker', 'Bag', 'Ankle boot']\n",
    "\n",
    "def predict_image():\n",
    "    # Allow user to select an image file\n",
    "    file_path = filedialog.askopenfilename()\n",
    "    if not file_path:\n",
    "        return\n",
    "    \n",
    "    # Load and preprocess the image\n",
    "    img = Image.open(file_path).convert('L')  # Convert to grayscale\n",
    "    img = img.resize((28, 28))\n",
    "    img = np.array(img) / 255.0\n",
    "    img = img.reshape((1, 28, 28, 1))\n",
    "\n",
    "    # Make predictions on the image\n",
    "    prediction = model.predict(img)\n",
    "    predicted_label = class_labels[np.argmax(prediction)]\n",
    "\n",
    "    # Display the image and predicted label\n",
    "    img = Image.open(file_path)\n",
    "    img = img.resize((200, 200))\n",
    "    img = ImageTk.PhotoImage(img)\n",
    "    image_label.config(image=img)\n",
    "    image_label.image = img\n",
    "    status_label.config(text=f\"Predicted Label: {predicted_label}\")\n",
    "\n",
    "# Create the main application window\n",
    "root = tk.Tk()\n",
    "root.title(\"Fashion MNIST Image Classifier\")\n",
    "\n",
    "# Add a button to upload an image and predict\n",
    "upload_button = ttk.Button(root, text=\"Upload Image\", command=predict_image)\n",
    "upload_button.grid(row=0, column=0, columnspan=3)\n",
    "\n",
    "# Add labels for displaying image and prediction information\n",
    "image_label = ttk.Label(root)\n",
    "image_label.grid(row=1, column=0, columnspan=3)\n",
    "\n",
    "status_label = ttk.Label(root, text=\"\")\n",
    "status_label.grid(row=2, column=0, columnspan=3)\n",
    "\n",
    "# Run the application loop\n",
    "root.mainloop()"
   ]
  }
 ],
 "metadata": {
  "kernelspec": {
   "display_name": "Python 3 (ipykernel)",
   "language": "python",
   "name": "python3"
  },
  "language_info": {
   "codemirror_mode": {
    "name": "ipython",
    "version": 3
   },
   "file_extension": ".py",
   "mimetype": "text/x-python",
   "name": "python",
   "nbconvert_exporter": "python",
   "pygments_lexer": "ipython3",
   "version": "3.11.5"
  }
 },
 "nbformat": 4,
 "nbformat_minor": 5
}
