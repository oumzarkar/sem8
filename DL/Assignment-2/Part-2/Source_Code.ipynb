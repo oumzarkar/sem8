{
 "cells": [
  {
   "cell_type": "markdown",
   "id": "c08f9e74",
   "metadata": {},
   "source": [
    "## Importing Dataset"
   ]
  },
  {
   "cell_type": "code",
   "execution_count": 1,
   "id": "9b26cae3",
   "metadata": {},
   "outputs": [],
   "source": [
    "from keras.datasets import imdb # Load the data, keeping only 10,000 of the most frequently occuring words\n",
    "(train_data, train_labels), (test_data, test_labels) = imdb.load_data(num_words = 10000)"
   ]
  },
  {
   "cell_type": "code",
   "execution_count": 2,
   "id": "4b96f9ec",
   "metadata": {},
   "outputs": [],
   "source": [
    "word_index = imdb.get_word_index()\n",
    "reverse_word_index = dict([(value, key) for (key, value) in word_index.items()])\n",
    "decoded_review = ' '.join([reverse_word_index.get(i-3, '?') for i in train_data[0]])"
   ]
  },
  {
   "cell_type": "code",
   "execution_count": 3,
   "id": "76b47ca2",
   "metadata": {},
   "outputs": [],
   "source": [
    "import numpy as np\n",
    "\n",
    "def vectorize_sequences(sequences, dimension=10000):\n",
    "    results = np.zeros((len(sequences), dimension))    # Creates an all zero matrix of shape (len(sequences),10K)\n",
    "    for i,sequence in enumerate(sequences):\n",
    "        results[i,sequence] = 1                        # Sets specific indices of results[i] to 1s\n",
    "    return results\n",
    "\n",
    "# Vectorize training Data\n",
    "X_train = vectorize_sequences(train_data)\n",
    "\n",
    "# Vectorize testing Data\n",
    "X_test = vectorize_sequences(test_data)"
   ]
  },
  {
   "cell_type": "markdown",
   "id": "3e996332",
   "metadata": {},
   "source": [
    "## Vectorize Data"
   ]
  },
  {
   "cell_type": "code",
   "execution_count": 4,
   "id": "7d2fc3da",
   "metadata": {},
   "outputs": [],
   "source": [
    "class_names = ['negative','positive']"
   ]
  },
  {
   "cell_type": "code",
   "execution_count": 5,
   "id": "26f0ba42",
   "metadata": {},
   "outputs": [],
   "source": [
    "y_train = np.asarray(train_labels).astype('float32')\n",
    "y_test  = np.asarray(test_labels).astype('float32')"
   ]
  },
  {
   "cell_type": "code",
   "execution_count": 6,
   "id": "9e5c32ae",
   "metadata": {},
   "outputs": [
    {
     "data": {
      "text/plain": [
       "array([0., 1., 1., ..., 0., 0., 0.], dtype=float32)"
      ]
     },
     "execution_count": 6,
     "metadata": {},
     "output_type": "execute_result"
    }
   ],
   "source": [
    "y_test"
   ]
  },
  {
   "cell_type": "code",
   "execution_count": 7,
   "id": "7883ae92",
   "metadata": {},
   "outputs": [
    {
     "name": "stderr",
     "output_type": "stream",
     "text": [
      "C:\\Users\\PREDATOR\\anaconda3\\Lib\\site-packages\\keras\\src\\layers\\core\\dense.py:85: UserWarning: Do not pass an `input_shape`/`input_dim` argument to a layer. When using Sequential models, prefer using an `Input(shape)` object as the first layer in the model instead.\n",
      "  super().__init__(activity_regularizer=activity_regularizer, **kwargs)\n"
     ]
    }
   ],
   "source": [
    "from keras import models \n",
    "from keras import layers \n",
    "model = models.Sequential() \n",
    "model.add(layers.Dense(16, activation='relu', input_shape=(10000,)))\n",
    "model.add(layers.Dense(16, activation='relu')) \n",
    "model.add(layers.Dense(1, activation='sigmoid'))"
   ]
  },
  {
   "cell_type": "code",
   "execution_count": 8,
   "id": "a35227dd",
   "metadata": {},
   "outputs": [],
   "source": [
    "from keras import optimizers\n",
    "from keras import losses \n",
    "from keras import metrics \n",
    "model.compile(optimizer=optimizers.RMSprop(learning_rate=0.001), loss = losses.binary_crossentropy, metrics = [metrics.binary_accuracy])"
   ]
  },
  {
   "cell_type": "code",
   "execution_count": 9,
   "id": "d945c4aa",
   "metadata": {},
   "outputs": [],
   "source": [
    "X_val = X_train[:10000]\n",
    "partial_X_train = X_train[10000:] # Labels for validation \n",
    "y_val = y_train[:10000] \n",
    "partial_y_train = y_train[10000:]"
   ]
  },
  {
   "cell_type": "code",
   "execution_count": 10,
   "id": "aeb11ff9",
   "metadata": {},
   "outputs": [
    {
     "name": "stdout",
     "output_type": "stream",
     "text": [
      "Epoch 1/10\n",
      "\u001b[1m30/30\u001b[0m \u001b[32m━━━━━━━━━━━━━━━━━━━━\u001b[0m\u001b[37m\u001b[0m \u001b[1m2s\u001b[0m 36ms/step - binary_accuracy: 0.7062 - loss: 0.5953 - val_binary_accuracy: 0.8520 - val_loss: 0.4014\n",
      "Epoch 2/10\n",
      "\u001b[1m30/30\u001b[0m \u001b[32m━━━━━━━━━━━━━━━━━━━━\u001b[0m\u001b[37m\u001b[0m \u001b[1m1s\u001b[0m 16ms/step - binary_accuracy: 0.9000 - loss: 0.3300 - val_binary_accuracy: 0.8763 - val_loss: 0.3181\n",
      "Epoch 3/10\n",
      "\u001b[1m30/30\u001b[0m \u001b[32m━━━━━━━━━━━━━━━━━━━━\u001b[0m\u001b[37m\u001b[0m \u001b[1m1s\u001b[0m 16ms/step - binary_accuracy: 0.9203 - loss: 0.2456 - val_binary_accuracy: 0.8905 - val_loss: 0.2834\n",
      "Epoch 4/10\n",
      "\u001b[1m30/30\u001b[0m \u001b[32m━━━━━━━━━━━━━━━━━━━━\u001b[0m\u001b[37m\u001b[0m \u001b[1m1s\u001b[0m 16ms/step - binary_accuracy: 0.9379 - loss: 0.1933 - val_binary_accuracy: 0.8815 - val_loss: 0.2924\n",
      "Epoch 5/10\n",
      "\u001b[1m30/30\u001b[0m \u001b[32m━━━━━━━━━━━━━━━━━━━━\u001b[0m\u001b[37m\u001b[0m \u001b[1m1s\u001b[0m 16ms/step - binary_accuracy: 0.9482 - loss: 0.1642 - val_binary_accuracy: 0.8875 - val_loss: 0.2784\n",
      "Epoch 6/10\n",
      "\u001b[1m30/30\u001b[0m \u001b[32m━━━━━━━━━━━━━━━━━━━━\u001b[0m\u001b[37m\u001b[0m \u001b[1m1s\u001b[0m 16ms/step - binary_accuracy: 0.9603 - loss: 0.1305 - val_binary_accuracy: 0.8790 - val_loss: 0.3011\n",
      "Epoch 7/10\n",
      "\u001b[1m30/30\u001b[0m \u001b[32m━━━━━━━━━━━━━━━━━━━━\u001b[0m\u001b[37m\u001b[0m \u001b[1m1s\u001b[0m 16ms/step - binary_accuracy: 0.9662 - loss: 0.1151 - val_binary_accuracy: 0.8749 - val_loss: 0.3170\n",
      "Epoch 8/10\n",
      "\u001b[1m30/30\u001b[0m \u001b[32m━━━━━━━━━━━━━━━━━━━━\u001b[0m\u001b[37m\u001b[0m \u001b[1m1s\u001b[0m 16ms/step - binary_accuracy: 0.9703 - loss: 0.1016 - val_binary_accuracy: 0.8744 - val_loss: 0.3299\n",
      "Epoch 9/10\n",
      "\u001b[1m30/30\u001b[0m \u001b[32m━━━━━━━━━━━━━━━━━━━━\u001b[0m\u001b[37m\u001b[0m \u001b[1m1s\u001b[0m 17ms/step - binary_accuracy: 0.9771 - loss: 0.0854 - val_binary_accuracy: 0.8836 - val_loss: 0.3250\n",
      "Epoch 10/10\n",
      "\u001b[1m30/30\u001b[0m \u001b[32m━━━━━━━━━━━━━━━━━━━━\u001b[0m\u001b[37m\u001b[0m \u001b[1m1s\u001b[0m 16ms/step - binary_accuracy: 0.9836 - loss: 0.0699 - val_binary_accuracy: 0.8715 - val_loss: 0.3614\n"
     ]
    }
   ],
   "source": [
    "history = model.fit(partial_X_train, partial_y_train, epochs=10, batch_size=512, validation_data=(X_val, y_val))"
   ]
  },
  {
   "cell_type": "code",
   "execution_count": 39,
   "id": "ad3f319a",
   "metadata": {},
   "outputs": [
    {
     "name": "stdout",
     "output_type": "stream",
     "text": [
      "[0. 1. 1. ... 0. 0. 0.]\n"
     ]
    }
   ],
   "source": [
    "print(X_test[19])"
   ]
  },
  {
   "cell_type": "code",
   "execution_count": 36,
   "id": "1e488501",
   "metadata": {},
   "outputs": [
    {
     "name": "stdout",
     "output_type": "stream",
     "text": [
      "\u001b[1m1/1\u001b[0m \u001b[32m━━━━━━━━━━━━━━━━━━━━\u001b[0m\u001b[37m\u001b[0m \u001b[1m0s\u001b[0m 17ms/step\n",
      "[[0.01196583]] negative\n"
     ]
    }
   ],
   "source": [
    "# Making Predictions for testing data np.set_printoptions(suppress=True) \n",
    "import numpy as np\n",
    "\n",
    "result = model.predict(np.expand_dims(X_test[19],axis=0))\n",
    "print(result,class_names[int(result[0]>0.5)])"
   ]
  },
  {
   "cell_type": "code",
   "execution_count": 28,
   "id": "0fdb8eac",
   "metadata": {},
   "outputs": [
    {
     "name": "stdout",
     "output_type": "stream",
     "text": [
      "[0. 1. 1. ... 0. 0. 0.]\n"
     ]
    }
   ],
   "source": [
    "print(X_test[0])"
   ]
  },
  {
   "cell_type": "markdown",
   "id": "0dba0cf2",
   "metadata": {},
   "source": [
    "## Dummy Input:\n",
    "Positive - <br>\n",
    "1, 14, 22, 16, 43, 530, 973, 1622, 1385, 65, 458, 4468, 66, 3941, 4, 173, 36, 256, 5, 25, 100, 43, 838, 112, 50, 670, 2, 9, 35, 480, 284, 5, 150, 4, 172, 112, 167, 2, 336, 385, 39, 4, 172, 4536, 1111, 17, 546, 38, 13, 447, 4, 192, 50, 16, 6, 147, 2025, 19, 14, 22, 4, 1920, 4613, 469, 4, 22, 71, 87, 12, 16, 43, 530, 38, 76, 15, 13, 1247, 4, 22, 17, 515, 17, 12, 16, 626, 18, 2, 5, 62, 386, 12, 8, 316, 8, 106, 5, 4, 2223, 5244, 16, 480, 66, 3785, 33, 4, 130, 12, 16, 38, 619, 5, 25, 124, 51, 36, 135, 48, 25, 1415, 33, 6, 22, 12, 215, 28, 77, 52, 5, 14, 407, 16, 82, 2, 8, 4, 107, 117, 5952, 15, 256, 4, 2, 7, 3766, 5, 723, 36, 71, 43, 530, 476, 26, 400, 317, 46, 7, 4, 2, 1029, 13, 104, 88, 4, 381, 15, 297, 98, 32, 2071, 56, 26, 141, 6, 194, 7486, 18, 4, 226, 22, 21, 134, 476, 26, 480, 5, 144, 30, 5535, 18, 51, 36, 28, 224, 92, 25, 104, 4, 226, 65, 16, 38, 1334, 88, 12, 16, 283, 5, 16, 4472, 113, 103, 32, 15, 16, 5345, 19, 178, 32"
   ]
  },
  {
   "cell_type": "code",
   "execution_count": 107,
   "id": "bfdef4a0",
   "metadata": {},
   "outputs": [
    {
     "name": "stdout",
     "output_type": "stream",
     "text": [
      "[1, 307, 5, 1301, 20, 1026, 2511, 87, 2775, 52, 116, 5, 31, 7, 4, 91, 1220, 102, 13, 28, 110, 11, 6, 137, 13, 115, 219, 141, 35, 221, 956, 54, 13, 16, 11, 2714, 61, 322, 423, 12, 38, 76, 59, 1803, 72, 8, 2, 23, 5, 967, 12, 38, 85, 62, 358, 99]\n",
      "1\n",
      "the version to date on list draw him critical very love to by br of its tony characters was one life this is go was best least should so done result no was with this understood only war couldn't that her get would johnny we in and are to business that her because story use movies "
     ]
    }
   ],
   "source": [
    "ik = 123\n",
    "print(train_data[ik])\n",
    "print(train_labels[ik])\n",
    "for i in train_data[ik]:\n",
    "    print(list(word_index.keys())[list(word_index.values()).index(i)],end=\" \")"
   ]
  },
  {
   "cell_type": "code",
   "execution_count": 108,
   "id": "4b099624",
   "metadata": {},
   "outputs": [
    {
     "name": "stdout",
     "output_type": "stream",
     "text": [
      "[1, 13, 119, 954, 189, 1554, 13, 92, 459, 48, 4, 116, 9, 1492, 2291, 42, 726, 4, 1939, 168, 2031, 13, 423, 14, 20, 549, 18, 4, 2, 547, 32, 4, 96, 39, 4, 454, 7, 4, 22, 8, 4, 55, 130, 168, 13, 92, 359, 6, 158, 1511, 2, 42, 6, 1913, 19, 194, 4455, 4121, 6, 114, 8, 72, 21, 465, 9667, 304, 4, 51, 9, 14, 20, 44, 155, 8, 6, 226, 162, 616, 651, 51, 9, 14, 20, 44, 10, 10, 14, 218, 4843, 629, 42, 3017, 21, 48, 25, 28, 35, 534, 5, 6, 320, 8, 516, 5, 42, 25, 181, 8, 130, 56, 547, 3571, 5, 1471, 851, 14, 2286]\n",
      "0\n",
      "the was did hands fact absolute was then laugh what of love it notice matters it's similar of numerous few blind was couldn't as on type but of and slow an of too or of 5 br of you in of time here few was then kids is didn't billy and it's is rubbish film thought rotten carl is little in we not seemed paperhouse beautiful of when it as on has 10 in is script actually sad happy when it as on has i i as interesting seeks hero it's nine not what have one so stories to is star in car to it's have pretty in here she slow individuals to difference note as sequels "
     ]
    }
   ],
   "source": [
    "ik = 12\n",
    "print(train_data[ik])\n",
    "print(train_labels[ik])\n",
    "for i in train_data[ik]:\n",
    "    print(list(word_index.keys())[list(word_index.values()).index(i)],end=\" \")"
   ]
  },
  {
   "cell_type": "markdown",
   "id": "8202de30",
   "metadata": {},
   "source": [
    "## Vectorized Input"
   ]
  },
  {
   "cell_type": "code",
   "execution_count": 49,
   "id": "e7704f95",
   "metadata": {},
   "outputs": [
    {
     "name": "stdout",
     "output_type": "stream",
     "text": [
      "Enter: 1, 13, 92, 124, 51, 12, 9, 13, 169, 38, 3308, 44, 14, 22, 21, 4, 86, 58, 13, 219, 12, 13, 473, 8, 67, 89, 12, 1054, 146, 24, 6, 194, 337, 7, 723, 2, 885, 7, 325, 3287, 21, 13, 16, 371, 1535, 43, 89, 5, 54, 2, 62, 169, 27, 506, 32, 29, 694, 9, 15, 4, 430, 47, 1419, 523, 882, 30, 579, 13, 28, 24, 110, 14, 20, 11, 153, 885, 47, 12, 77, 617, 23, 248, 11, 6, 137, 21, 14, 20, 9, 643, 7, 31, 1601, 6761, 103, 4, 7154, 7, 325, 2, 287, 6, 55, 2259, 5, 483, 4051, 1146, 7, 6, 132, 416, 34, 27, 1883, 50, 9, 35, 5029, 749, 11, 14, 20, 15, 29, 9, 267, 18, 4, 236, 7778, 7, 406, 3696, 11, 4, 7032, 7, 14, 325, 5, 4, 635, 15, 29, 127, 6275, 138, 14, 20, 9, 24, 246, 23, 288, 42, 374, 9, 6, 736, 8, 72\n",
      "\u001b[1m1/1\u001b[0m \u001b[32m━━━━━━━━━━━━━━━━━━━━\u001b[0m\u001b[37m\u001b[0m \u001b[1m0s\u001b[0m 18ms/step\n",
      "\n",
      "[[0.51492435]] positive\n"
     ]
    }
   ],
   "source": [
    "user = []\n",
    "\n",
    "dyna = input(\"Enter: \").split(\",\")\n",
    "for x in dyna:\n",
    "    user.append(int(x))\n",
    "\n",
    "user=vectorize_sequences(user)\n",
    "result1 = model.predict(np.expand_dims(user[1],axis=0))\n",
    "print()\n",
    "print(result1,class_names[int(result1[0]>0.5)])"
   ]
  },
  {
   "cell_type": "markdown",
   "id": "abc66af5",
   "metadata": {},
   "source": [
    "## Word Input"
   ]
  },
  {
   "cell_type": "markdown",
   "id": "2872d61f",
   "metadata": {},
   "source": [
    "Negative - everything is not working we will die<br>\n",
    "Positive - everything is working very well excellent work"
   ]
  },
  {
   "cell_type": "code",
   "execution_count": 169,
   "id": "25424d46",
   "metadata": {},
   "outputs": [
    {
     "name": "stdout",
     "output_type": "stream",
     "text": [
      "Enter: everything is working very well excellent work\n",
      "\u001b[1m1/1\u001b[0m \u001b[32m━━━━━━━━━━━━━━━━━━━━\u001b[0m\u001b[37m\u001b[0m \u001b[1m0s\u001b[0m 19ms/step\n",
      "\u001b[1m1/1\u001b[0m \u001b[32m━━━━━━━━━━━━━━━━━━━━\u001b[0m\u001b[37m\u001b[0m \u001b[1m0s\u001b[0m 19ms/step\n",
      "\u001b[1m1/1\u001b[0m \u001b[32m━━━━━━━━━━━━━━━━━━━━\u001b[0m\u001b[37m\u001b[0m \u001b[1m0s\u001b[0m 18ms/step\n",
      "\u001b[1m1/1\u001b[0m \u001b[32m━━━━━━━━━━━━━━━━━━━━\u001b[0m\u001b[37m\u001b[0m \u001b[1m0s\u001b[0m 20ms/step\n",
      "\u001b[1m1/1\u001b[0m \u001b[32m━━━━━━━━━━━━━━━━━━━━\u001b[0m\u001b[37m\u001b[0m \u001b[1m0s\u001b[0m 21ms/step\n",
      "\u001b[1m1/1\u001b[0m \u001b[32m━━━━━━━━━━━━━━━━━━━━\u001b[0m\u001b[37m\u001b[0m \u001b[1m0s\u001b[0m 19ms/step\n",
      "\u001b[1m1/1\u001b[0m \u001b[32m━━━━━━━━━━━━━━━━━━━━\u001b[0m\u001b[37m\u001b[0m \u001b[1m0s\u001b[0m 20ms/step\n",
      "POSITIVE\n"
     ]
    }
   ],
   "source": [
    "get_phrase = input(\"Enter: \")\n",
    "\n",
    "vec_words = []\n",
    "\n",
    "for i in get_phrase.split(\" \"):\n",
    "    vec_words.append(word_index[i.lower()])\n",
    "    \n",
    "vec_words = vectorize_sequences(vec_words)\n",
    "result = []\n",
    "#print(vec_words)\n",
    "for j in range(len(vec_words)):\n",
    "    result99 = model.predict(np.expand_dims(vec_words[j],axis=0))\n",
    "    #print(result99[0],class_names[int(result99[0]>0.5)])\n",
    "    result.append(class_names[int(result99[0]>0.5)])\n",
    "\n",
    "\n",
    "if result.count('negative')> result.count('positive'):\n",
    "    print(\"NEGATIVE\")\n",
    "else:\n",
    "    print(\"POSITIVE\")"
   ]
  },
  {
   "cell_type": "code",
   "execution_count": 167,
   "id": "f55c7db0",
   "metadata": {},
   "outputs": [
    {
     "name": "stdout",
     "output_type": "stream",
     "text": [
      "\u001b[1m1/1\u001b[0m \u001b[32m━━━━━━━━━━━━━━━━━━━━\u001b[0m\u001b[37m\u001b[0m \u001b[1m0s\u001b[0m 18ms/step\n",
      "['negative']\n"
     ]
    }
   ],
   "source": [
    "import tkinter as tk\n",
    "import numpy as np\n",
    "\n",
    "# Function to handle button click\n",
    "def display_name_and_predict():\n",
    "    # Get the name from the input field\n",
    "    name = entry.get()   \n",
    "    \n",
    "    vec_words = []\n",
    "    review_result = []\n",
    "\n",
    "    for i in name.split(\" \"):\n",
    "        vec_words.append(word_index[i.lower()])\n",
    "\n",
    "    vec_words = vectorize_sequences(vec_words)\n",
    "    result = []\n",
    "    #print(vec_words)\n",
    "    for j in range(len(vec_words)):\n",
    "        result99 = model.predict(np.expand_dims(vec_words[j],axis=0))\n",
    "        #print(result99[0],class_names[int(result99[0]>0.5)])\n",
    "        result.append(result99[0][0])\n",
    "        review_result.append(class_names[int(result99[0]>0.5)])\n",
    "\n",
    "    mean = sum(result)/len(result)\n",
    "    print(review_result)\n",
    "    final = ''\n",
    "    if review_result.count('negative')> review_result.count('positive'):\n",
    "        final = \"NEGATIVE\"\n",
    "    else:\n",
    "        final = \"POSITIVE\"\n",
    "    \n",
    "    # Display the name on the label\n",
    "    label.config(text=f\"Comment is {round(mean,3)}% {final}!\")\n",
    "\n",
    "# Create the main window\n",
    "window = tk.Tk()\n",
    "window.title(\"Name Display and Prediction App\")\n",
    "\n",
    "# Create an input field\n",
    "entry = tk.Entry(window, width=30)\n",
    "entry.pack(pady=10)\n",
    "\n",
    "# Create a button\n",
    "button = tk.Button(window, text=\"Predict\", command=display_name_and_predict)\n",
    "button.pack(pady=10)\n",
    "\n",
    "# Create a display label\n",
    "label = tk.Label(window, text=\"\")\n",
    "label.pack(pady=10)\n",
    "\n",
    "# Run the Tkinter event loop\n",
    "window.mainloop()\n"
   ]
  },
  {
   "cell_type": "code",
   "execution_count": null,
   "id": "c68d7c06",
   "metadata": {},
   "outputs": [],
   "source": []
  },
  {
   "cell_type": "code",
   "execution_count": null,
   "id": "e44ed061",
   "metadata": {},
   "outputs": [],
   "source": []
  },
  {
   "cell_type": "code",
   "execution_count": null,
   "id": "4b20c8ef",
   "metadata": {},
   "outputs": [],
   "source": []
  }
 ],
 "metadata": {
  "kernelspec": {
   "display_name": "Python 3 (ipykernel)",
   "language": "python",
   "name": "python3"
  },
  "language_info": {
   "codemirror_mode": {
    "name": "ipython",
    "version": 3
   },
   "file_extension": ".py",
   "mimetype": "text/x-python",
   "name": "python",
   "nbconvert_exporter": "python",
   "pygments_lexer": "ipython3",
   "version": "3.11.5"
  }
 },
 "nbformat": 4,
 "nbformat_minor": 5
}
