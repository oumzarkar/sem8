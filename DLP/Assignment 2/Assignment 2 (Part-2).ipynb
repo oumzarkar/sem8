{
 "cells": [
  {
   "cell_type": "code",
   "execution_count": 1,
   "id": "cc115172",
   "metadata": {},
   "outputs": [],
   "source": [
    "from keras.datasets import imdb # Load the data, keeping only 10,000 of the most frequently occuring words\n",
    "(train_data, train_labels), (test_data, test_labels) = imdb.load_data(num_words = 10000)\n",
    "\n",
    "word_index = imdb.get_word_index()\n",
    "reverse_word_index = dict([(value, key) for (key, value) in word_index.items()])\n",
    "decoded_review = ' '.join([reverse_word_index.get(i-3, '?') for i in train_data[0]])\n",
    "\n",
    "import numpy as np\n",
    "\n",
    "def vectorize_sequences(sequences, dimension=10000):\n",
    "    results = np.zeros((len(sequences), dimension))    # Creates an all zero matrix of shape (len(sequences),10K)\n",
    "    for i,sequence in enumerate(sequences):\n",
    "        results[i,sequence] = 1                        # Sets specific indices of results[i] to 1s\n",
    "    return results\n",
    "\n",
    "# Vectorize training Data\n",
    "X_train = vectorize_sequences(train_data)\n",
    "\n",
    "# Vectorize testing Data\n",
    "X_test = vectorize_sequences(test_data)"
   ]
  },
  {
   "cell_type": "code",
   "execution_count": 2,
   "id": "00d4e0de",
   "metadata": {},
   "outputs": [
    {
     "name": "stderr",
     "output_type": "stream",
     "text": [
      "C:\\Users\\prati\\anaconda3\\Lib\\site-packages\\keras\\src\\layers\\core\\dense.py:85: UserWarning: Do not pass an `input_shape`/`input_dim` argument to a layer. When using Sequential models, prefer using an `Input(shape)` object as the first layer in the model instead.\n",
      "  super().__init__(activity_regularizer=activity_regularizer, **kwargs)\n"
     ]
    },
    {
     "name": "stdout",
     "output_type": "stream",
     "text": [
      "Epoch 1/10\n",
      "\u001b[1m30/30\u001b[0m \u001b[32m━━━━━━━━━━━━━━━━━━━━\u001b[0m\u001b[37m\u001b[0m \u001b[1m9s\u001b[0m 224ms/step - binary_accuracy: 0.7061 - loss: 0.6029 - val_binary_accuracy: 0.8628 - val_loss: 0.4065\n",
      "Epoch 2/10\n",
      "\u001b[1m30/30\u001b[0m \u001b[32m━━━━━━━━━━━━━━━━━━━━\u001b[0m\u001b[37m\u001b[0m \u001b[1m1s\u001b[0m 18ms/step - binary_accuracy: 0.8911 - loss: 0.3453 - val_binary_accuracy: 0.8863 - val_loss: 0.3131\n",
      "Epoch 3/10\n",
      "\u001b[1m30/30\u001b[0m \u001b[32m━━━━━━━━━━━━━━━━━━━━\u001b[0m\u001b[37m\u001b[0m \u001b[1m1s\u001b[0m 16ms/step - binary_accuracy: 0.9222 - loss: 0.2502 - val_binary_accuracy: 0.8897 - val_loss: 0.2848\n",
      "Epoch 4/10\n",
      "\u001b[1m30/30\u001b[0m \u001b[32m━━━━━━━━━━━━━━━━━━━━\u001b[0m\u001b[37m\u001b[0m \u001b[1m1s\u001b[0m 15ms/step - binary_accuracy: 0.9365 - loss: 0.1958 - val_binary_accuracy: 0.8896 - val_loss: 0.2764\n",
      "Epoch 5/10\n",
      "\u001b[1m30/30\u001b[0m \u001b[32m━━━━━━━━━━━━━━━━━━━━\u001b[0m\u001b[37m\u001b[0m \u001b[1m1s\u001b[0m 15ms/step - binary_accuracy: 0.9501 - loss: 0.1612 - val_binary_accuracy: 0.8844 - val_loss: 0.2901\n",
      "Epoch 6/10\n",
      "\u001b[1m30/30\u001b[0m \u001b[32m━━━━━━━━━━━━━━━━━━━━\u001b[0m\u001b[37m\u001b[0m \u001b[1m1s\u001b[0m 16ms/step - binary_accuracy: 0.9587 - loss: 0.1332 - val_binary_accuracy: 0.8868 - val_loss: 0.2847\n",
      "Epoch 7/10\n",
      "\u001b[1m30/30\u001b[0m \u001b[32m━━━━━━━━━━━━━━━━━━━━\u001b[0m\u001b[37m\u001b[0m \u001b[1m1s\u001b[0m 16ms/step - binary_accuracy: 0.9705 - loss: 0.1107 - val_binary_accuracy: 0.8844 - val_loss: 0.2974\n",
      "Epoch 8/10\n",
      "\u001b[1m30/30\u001b[0m \u001b[32m━━━━━━━━━━━━━━━━━━━━\u001b[0m\u001b[37m\u001b[0m \u001b[1m1s\u001b[0m 16ms/step - binary_accuracy: 0.9751 - loss: 0.0955 - val_binary_accuracy: 0.8828 - val_loss: 0.3237\n",
      "Epoch 9/10\n",
      "\u001b[1m30/30\u001b[0m \u001b[32m━━━━━━━━━━━━━━━━━━━━\u001b[0m\u001b[37m\u001b[0m \u001b[1m1s\u001b[0m 16ms/step - binary_accuracy: 0.9769 - loss: 0.0870 - val_binary_accuracy: 0.8862 - val_loss: 0.3244\n",
      "Epoch 10/10\n",
      "\u001b[1m30/30\u001b[0m \u001b[32m━━━━━━━━━━━━━━━━━━━━\u001b[0m\u001b[37m\u001b[0m \u001b[1m1s\u001b[0m 13ms/step - binary_accuracy: 0.9837 - loss: 0.0693 - val_binary_accuracy: 0.8757 - val_loss: 0.3494\n"
     ]
    }
   ],
   "source": [
    "class_names = ['negative','positive']\n",
    "\n",
    "y_train = np.asarray(train_labels).astype('float32')\n",
    "y_test  = np.asarray(test_labels).astype('float32')\n",
    "\n",
    "y_test\n",
    "\n",
    "from keras import models \n",
    "from keras import layers \n",
    "model = models.Sequential() \n",
    "model.add(layers.Dense(16, activation='relu', input_shape=(10000,)))\n",
    "model.add(layers.Dense(16, activation='relu')) \n",
    "model.add(layers.Dense(1, activation='sigmoid'))\n",
    "\n",
    "from keras import optimizers\n",
    "from keras import losses \n",
    "from keras import metrics \n",
    "model.compile(optimizer=optimizers.RMSprop(learning_rate=0.001), loss = losses.binary_crossentropy, metrics = [metrics.binary_accuracy])\n",
    "\n",
    "X_val = X_train[:10000]\n",
    "partial_X_train = X_train[10000:] # Labels for validation \n",
    "y_val = y_train[:10000] \n",
    "partial_y_train = y_train[10000:]\n",
    "\n",
    "history = model.fit(partial_X_train, partial_y_train, epochs=10, batch_size=512, validation_data=(X_val, y_val))\n"
   ]
  },
  {
   "cell_type": "code",
   "execution_count": 3,
   "id": "2d9c6a5b",
   "metadata": {},
   "outputs": [
    {
     "name": "stdout",
     "output_type": "stream",
     "text": [
      "\u001b[1m1/1\u001b[0m \u001b[32m━━━━━━━━━━━━━━━━━━━━\u001b[0m\u001b[37m\u001b[0m \u001b[1m0s\u001b[0m 78ms/step\n",
      "[[0.02275313]] negative\n",
      "Enter: Great movie loved it\n",
      "\u001b[1m1/1\u001b[0m \u001b[32m━━━━━━━━━━━━━━━━━━━━\u001b[0m\u001b[37m\u001b[0m \u001b[1m0s\u001b[0m 47ms/step\n",
      "\u001b[1m1/1\u001b[0m \u001b[32m━━━━━━━━━━━━━━━━━━━━\u001b[0m\u001b[37m\u001b[0m \u001b[1m0s\u001b[0m 47ms/step\n",
      "\u001b[1m1/1\u001b[0m \u001b[32m━━━━━━━━━━━━━━━━━━━━\u001b[0m\u001b[37m\u001b[0m \u001b[1m0s\u001b[0m 47ms/step\n",
      "\u001b[1m1/1\u001b[0m \u001b[32m━━━━━━━━━━━━━━━━━━━━\u001b[0m\u001b[37m\u001b[0m \u001b[1m0s\u001b[0m 31ms/step\n",
      "POSITIVE\n"
     ]
    }
   ],
   "source": [
    "# Making Predictions for testing data np.set_printoptions(suppress=True) \n",
    "import numpy as np\n",
    "\n",
    "result = model.predict(np.expand_dims(X_test[19],axis=0))\n",
    "print(result,class_names[int(result[0]>0.5)])\n",
    "\n",
    "get_phrase = input(\"Enter: \")\n",
    "\n",
    "vec_words = []\n",
    "\n",
    "for i in get_phrase.split(\" \"):\n",
    "    vec_words.append(word_index[i.lower()])\n",
    "    \n",
    "vec_words = vectorize_sequences(vec_words)\n",
    "result = []\n",
    "#print(vec_words)\n",
    "for j in range(len(vec_words)):\n",
    "    result99 = model.predict(np.expand_dims(vec_words[j],axis=0))\n",
    "    #print(result99[0],class_names[int(result99[0]>0.5)])\n",
    "    result.append(class_names[int(result99[0]>0.5)])\n",
    "\n",
    "\n",
    "if result.count('negative')> result.count('positive'):\n",
    "    print(\"NEGATIVE\")\n",
    "else:\n",
    "    print(\"POSITIVE\")"
   ]
  },
  {
   "cell_type": "markdown",
   "id": "35f4208b",
   "metadata": {},
   "source": [
    "# GUI"
   ]
  },
  {
   "cell_type": "code",
   "execution_count": 5,
   "id": "40e22173",
   "metadata": {},
   "outputs": [],
   "source": [
    "import tkinter as tk\n",
    "import numpy as np\n",
    "\n",
    "# Function to handle button click\n",
    "def display_name_and_predict():\n",
    "    # Get the name from the input field\n",
    "    name = entry.get()   \n",
    "    \n",
    "    vec_words = []\n",
    "    review_result = []\n",
    "\n",
    "    for i in name.split(\" \"):\n",
    "        vec_words.append(word_index[i.lower()])\n",
    "\n",
    "    vec_words = vectorize_sequences(vec_words)\n",
    "    result = []\n",
    "    #print(vec_words)\n",
    "    for j in range(len(vec_words)):\n",
    "        result99 = model.predict(np.expand_dims(vec_words[j],axis=0))\n",
    "        #print(result99[0],class_names[int(result99[0]>0.5)])\n",
    "        result.append(result99[0][0])\n",
    "        review_result.append(class_names[int(result99[0]>0.5)])\n",
    "\n",
    "    mean = sum(result)/len(result)\n",
    "    print(review_result)\n",
    "    final = ''\n",
    "    if review_result.count('negative')> review_result.count('positive'):\n",
    "        final = \"NEGATIVE\"\n",
    "    else:\n",
    "        final = \"POSITIVE\"\n",
    "    \n",
    "    # Display the name on the label\n",
    "    label.config(text=f\"Comment is {round(mean,3)}% {final}!\")\n",
    "\n",
    "# Create the main window\n",
    "window = tk.Tk()\n",
    "window.title(\"Name Display and Prediction App\")\n",
    "\n",
    "# Create an input field\n",
    "entry = tk.Entry(window, width=30)\n",
    "entry.pack(pady=10)\n",
    "\n",
    "# Create a button\n",
    "button = tk.Button(window, text=\"Predict\", command=display_name_and_predict)\n",
    "button.pack(pady=10)\n",
    "\n",
    "# Create a display label\n",
    "label = tk.Label(window, text=\"\")\n",
    "label.pack(pady=10)\n",
    "\n",
    "# Run the Tkinter event loop\n",
    "window.mainloop()"
   ]
  },
  {
   "cell_type": "code",
   "execution_count": null,
   "id": "8114a34f",
   "metadata": {},
   "outputs": [],
   "source": []
  }
 ],
 "metadata": {
  "kernelspec": {
   "display_name": "Python 3 (ipykernel)",
   "language": "python",
   "name": "python3"
  },
  "language_info": {
   "codemirror_mode": {
    "name": "ipython",
    "version": 3
   },
   "file_extension": ".py",
   "mimetype": "text/x-python",
   "name": "python",
   "nbconvert_exporter": "python",
   "pygments_lexer": "ipython3",
   "version": "3.11.3"
  }
 },
 "nbformat": 4,
 "nbformat_minor": 5
}
